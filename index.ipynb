{
 "cells": [
  {
   "cell_type": "markdown",
   "id": "3a2978b6",
   "metadata": {},
   "source": [
    "# Natural Language Processing (NLP) Project : Sentiment Analysis on Tweets about Apple and Google Products\n"
   ]
  },
  {
   "cell_type": "markdown",
   "id": "6cb04849",
   "metadata": {},
   "source": [
    "## Overview\n",
    "This project aims to analyze Twitter sentiment about Apple and Google products using Natural Language Processing (NLP). The dataset contains tweets labeled as positive, negative, or neutral. By building a sentiment analysis model, we aim to categorize the sentiment of tweets accurately and gain insights into public perception of these tech giants' products."
   ]
  },
  {
   "cell_type": "markdown",
   "id": "36d589a5",
   "metadata": {},
   "source": [
    "## Business Understanding\n",
    "### Business Problem\n",
    "Understanding customer sentiment is critical for businesses to gauge public opinion and improve products or services. For Apple and Google, analyzing Twitter sentiment can provide actionable insights to enhance user satisfaction and market strategies.\n",
    "\n",
    "### Stakeholders\n",
    "1. `Marketing Teams`:\n",
    "Use insights to create targeted campaigns focusing on products with positive sentiment.\n",
    "Address negative feedback to improve brand perception.\n",
    "2. `Product Teams`:\n",
    "Identify areas of improvement for specific products (e.g., iPhone or Pixel).\n",
    "3. `Executives`:\n",
    "Make data-driven decisions for product launches, pricing strategies, and market positioning.\n",
    "\n",
    "### Objectives\n",
    "1. Build a model to classify the sentiment of tweets into positive, negative, or neutral categories.\n",
    "2. Evaluate model performance using suitable metrics.\n",
    "3. Provide insights and recommendations based on the analysis results."
   ]
  },
  {
   "cell_type": "markdown",
   "id": "2645dc44",
   "metadata": {},
   "source": [
    "## Data Understanding\n",
    "Here, we intend to comprehensively explore and analyze our dataset to gain insights into its structure, content, and quality."
   ]
  },
  {
   "cell_type": "code",
   "execution_count": 45,
   "id": "e23309aa",
   "metadata": {},
   "outputs": [],
   "source": [
    "# Import necessary libraries\n",
    "import pandas as pd\n",
    "import numpy as np\n",
    "import matplotlib.pyplot as plt\n",
    "import seaborn as sns\n",
    "\n",
    "import re\n",
    "import nltk\n",
    "from nltk.tokenize import word_tokenize\n",
    "from nltk.corpus import stopwords\n",
    "from nltk.stem import WordNetLemmatizer\n",
    "\n",
    "from sklearn.model_selection import train_test_split\n",
    "from sklearn.feature_extraction.text import TfidfVectorizer"
   ]
  },
  {
   "cell_type": "code",
   "execution_count": 46,
   "id": "cdf68e8b",
   "metadata": {},
   "outputs": [],
   "source": [
    "# Load the data\n",
    "df = pd.read_csv('sentiment.csv', encoding='unicode_escape')"
   ]
  },
  {
   "cell_type": "code",
   "execution_count": 47,
   "id": "bbf1eb4e",
   "metadata": {},
   "outputs": [
    {
     "data": {
      "text/html": [
       "<div>\n",
       "<style scoped>\n",
       "    .dataframe tbody tr th:only-of-type {\n",
       "        vertical-align: middle;\n",
       "    }\n",
       "\n",
       "    .dataframe tbody tr th {\n",
       "        vertical-align: top;\n",
       "    }\n",
       "\n",
       "    .dataframe thead th {\n",
       "        text-align: right;\n",
       "    }\n",
       "</style>\n",
       "<table border=\"1\" class=\"dataframe\">\n",
       "  <thead>\n",
       "    <tr style=\"text-align: right;\">\n",
       "      <th></th>\n",
       "      <th>tweet_text</th>\n",
       "      <th>emotion_in_tweet_is_directed_at</th>\n",
       "      <th>is_there_an_emotion_directed_at_a_brand_or_product</th>\n",
       "    </tr>\n",
       "  </thead>\n",
       "  <tbody>\n",
       "    <tr>\n",
       "      <th>0</th>\n",
       "      <td>.@wesley83 I have a 3G iPhone. After 3 hrs twe...</td>\n",
       "      <td>iPhone</td>\n",
       "      <td>Negative emotion</td>\n",
       "    </tr>\n",
       "    <tr>\n",
       "      <th>1</th>\n",
       "      <td>@jessedee Know about @fludapp ? Awesome iPad/i...</td>\n",
       "      <td>iPad or iPhone App</td>\n",
       "      <td>Positive emotion</td>\n",
       "    </tr>\n",
       "    <tr>\n",
       "      <th>2</th>\n",
       "      <td>@swonderlin Can not wait for #iPad 2 also. The...</td>\n",
       "      <td>iPad</td>\n",
       "      <td>Positive emotion</td>\n",
       "    </tr>\n",
       "    <tr>\n",
       "      <th>3</th>\n",
       "      <td>@sxsw I hope this year's festival isn't as cra...</td>\n",
       "      <td>iPad or iPhone App</td>\n",
       "      <td>Negative emotion</td>\n",
       "    </tr>\n",
       "    <tr>\n",
       "      <th>4</th>\n",
       "      <td>@sxtxstate great stuff on Fri #SXSW: Marissa M...</td>\n",
       "      <td>Google</td>\n",
       "      <td>Positive emotion</td>\n",
       "    </tr>\n",
       "  </tbody>\n",
       "</table>\n",
       "</div>"
      ],
      "text/plain": [
       "                                          tweet_text  \\\n",
       "0  .@wesley83 I have a 3G iPhone. After 3 hrs twe...   \n",
       "1  @jessedee Know about @fludapp ? Awesome iPad/i...   \n",
       "2  @swonderlin Can not wait for #iPad 2 also. The...   \n",
       "3  @sxsw I hope this year's festival isn't as cra...   \n",
       "4  @sxtxstate great stuff on Fri #SXSW: Marissa M...   \n",
       "\n",
       "  emotion_in_tweet_is_directed_at  \\\n",
       "0                          iPhone   \n",
       "1              iPad or iPhone App   \n",
       "2                            iPad   \n",
       "3              iPad or iPhone App   \n",
       "4                          Google   \n",
       "\n",
       "  is_there_an_emotion_directed_at_a_brand_or_product  \n",
       "0                                   Negative emotion  \n",
       "1                                   Positive emotion  \n",
       "2                                   Positive emotion  \n",
       "3                                   Negative emotion  \n",
       "4                                   Positive emotion  "
      ]
     },
     "execution_count": 47,
     "metadata": {},
     "output_type": "execute_result"
    }
   ],
   "source": [
    "# View the first five rows of the dataset to see if loading has been done correctly\n",
    "df.head()"
   ]
  },
  {
   "cell_type": "code",
   "execution_count": 48,
   "id": "371a49cc",
   "metadata": {},
   "outputs": [
    {
     "name": "stdout",
     "output_type": "stream",
     "text": [
      "<class 'pandas.core.frame.DataFrame'>\n",
      "RangeIndex: 9093 entries, 0 to 9092\n",
      "Data columns (total 3 columns):\n",
      " #   Column                                              Non-Null Count  Dtype \n",
      "---  ------                                              --------------  ----- \n",
      " 0   tweet_text                                          9092 non-null   object\n",
      " 1   emotion_in_tweet_is_directed_at                     3291 non-null   object\n",
      " 2   is_there_an_emotion_directed_at_a_brand_or_product  9093 non-null   object\n",
      "dtypes: object(3)\n",
      "memory usage: 213.2+ KB\n"
     ]
    }
   ],
   "source": [
    "# View the overall information of each column\n",
    "df.info()"
   ]
  },
  {
   "cell_type": "code",
   "execution_count": 49,
   "id": "9dac0d1b",
   "metadata": {},
   "outputs": [
    {
     "data": {
      "text/html": [
       "<div>\n",
       "<style scoped>\n",
       "    .dataframe tbody tr th:only-of-type {\n",
       "        vertical-align: middle;\n",
       "    }\n",
       "\n",
       "    .dataframe tbody tr th {\n",
       "        vertical-align: top;\n",
       "    }\n",
       "\n",
       "    .dataframe thead th {\n",
       "        text-align: right;\n",
       "    }\n",
       "</style>\n",
       "<table border=\"1\" class=\"dataframe\">\n",
       "  <thead>\n",
       "    <tr style=\"text-align: right;\">\n",
       "      <th></th>\n",
       "      <th>tweet_text</th>\n",
       "      <th>emotion_in_tweet_is_directed_at</th>\n",
       "      <th>is_there_an_emotion_directed_at_a_brand_or_product</th>\n",
       "    </tr>\n",
       "  </thead>\n",
       "  <tbody>\n",
       "    <tr>\n",
       "      <th>count</th>\n",
       "      <td>9092</td>\n",
       "      <td>3291</td>\n",
       "      <td>9093</td>\n",
       "    </tr>\n",
       "    <tr>\n",
       "      <th>unique</th>\n",
       "      <td>9065</td>\n",
       "      <td>9</td>\n",
       "      <td>4</td>\n",
       "    </tr>\n",
       "    <tr>\n",
       "      <th>top</th>\n",
       "      <td>RT @mention Marissa Mayer: Google Will Connect...</td>\n",
       "      <td>iPad</td>\n",
       "      <td>No emotion toward brand or product</td>\n",
       "    </tr>\n",
       "    <tr>\n",
       "      <th>freq</th>\n",
       "      <td>5</td>\n",
       "      <td>946</td>\n",
       "      <td>5389</td>\n",
       "    </tr>\n",
       "  </tbody>\n",
       "</table>\n",
       "</div>"
      ],
      "text/plain": [
       "                                               tweet_text  \\\n",
       "count                                                9092   \n",
       "unique                                               9065   \n",
       "top     RT @mention Marissa Mayer: Google Will Connect...   \n",
       "freq                                                    5   \n",
       "\n",
       "       emotion_in_tweet_is_directed_at  \\\n",
       "count                             3291   \n",
       "unique                               9   \n",
       "top                               iPad   \n",
       "freq                               946   \n",
       "\n",
       "       is_there_an_emotion_directed_at_a_brand_or_product  \n",
       "count                                                9093  \n",
       "unique                                                  4  \n",
       "top                    No emotion toward brand or product  \n",
       "freq                                                 5389  "
      ]
     },
     "execution_count": 49,
     "metadata": {},
     "output_type": "execute_result"
    }
   ],
   "source": [
    "# Summary statistics of columns\n",
    "df.describe()"
   ]
  },
  {
   "cell_type": "code",
   "execution_count": 50,
   "id": "da190635",
   "metadata": {},
   "outputs": [
    {
     "data": {
      "text/plain": [
       "array(['Negative emotion', 'Positive emotion',\n",
       "       'No emotion toward brand or product', \"I can't tell\"], dtype=object)"
      ]
     },
     "execution_count": 50,
     "metadata": {},
     "output_type": "execute_result"
    }
   ],
   "source": [
    "df['is_there_an_emotion_directed_at_a_brand_or_product'].unique()"
   ]
  },
  {
   "cell_type": "markdown",
   "id": "773494b4",
   "metadata": {},
   "source": [
    "### Data Overview\n",
    "The dataset provides comprehensive information about over 9,000 tweets labeled as positive, negative, or neutral.\n",
    "- **Rows**: 9,093.\n",
    "- **Columns**: 3.\n",
    "- **Column Names**: \n",
    "     - `tweet_text` - Content of the tweet..\n",
    "     - `emotion_in_tweet_is_directed_at` - Subject of the tweet_text.\n",
    "     - `is_there_an_emotion_directed_at_a_brand_or_product` - Sentiment label.\n",
    "- **Data Types**:\n",
    "     - `Categorical Columns`: All 3 columns.\n",
    "- **Missing Values**:\n",
    "     - `tweet_text`: 1 missing value.\n",
    "     - `emotion_in_tweet_is_directed_at`: 5,802 missing values.\n",
    "     - `is_there_an_emotion_directed_at_a_brand_or_product`: No missing values.\n",
    "- **Nunique**:\n",
    "     - `tweet_text`: 9,065 unique tweets.\n",
    "     - `emotion_in_tweet_is_directed_at`: 9 unique products.\n",
    "     - `is_there_an_emotion_directed_at_a_brand_or_product`: 4 unique sentiment labels ('Negative emotion', 'Positive emotion', 'No emotion toward brand or product', 'I can't tell')"
   ]
  },
  {
   "cell_type": "markdown",
   "id": "1fc7cc6a",
   "metadata": {},
   "source": [
    "## Data Cleaning\n",
    "We intent to identify, correct, and remove errors, inconsistencies, and inaccuracies in our dataset to ensure that the data is accurate, complete, and reliable for analysis."
   ]
  },
  {
   "cell_type": "markdown",
   "id": "ee48efa0",
   "metadata": {},
   "source": [
    "### 1. Checking and dealing with missing values"
   ]
  },
  {
   "cell_type": "code",
   "execution_count": 51,
   "id": "ad5517cb",
   "metadata": {},
   "outputs": [
    {
     "data": {
      "text/plain": [
       "tweet_text                                               1\n",
       "emotion_in_tweet_is_directed_at                       5802\n",
       "is_there_an_emotion_directed_at_a_brand_or_product       0\n",
       "dtype: int64"
      ]
     },
     "execution_count": 51,
     "metadata": {},
     "output_type": "execute_result"
    }
   ],
   "source": [
    "#check for missing values\n",
    "df.isnull().sum()"
   ]
  },
  {
   "cell_type": "code",
   "execution_count": 52,
   "id": "39264db6",
   "metadata": {},
   "outputs": [
    {
     "data": {
      "text/plain": [
       "tweet_text                                            0.000110\n",
       "emotion_in_tweet_is_directed_at                       0.638073\n",
       "is_there_an_emotion_directed_at_a_brand_or_product    0.000000\n",
       "dtype: float64"
      ]
     },
     "execution_count": 52,
     "metadata": {},
     "output_type": "execute_result"
    }
   ],
   "source": [
    "#checking the percentage of missing values\n",
    "df.isnull().mean()"
   ]
  },
  {
   "cell_type": "code",
   "execution_count": 53,
   "id": "65b09eaf",
   "metadata": {},
   "outputs": [
    {
     "name": "stdout",
     "output_type": "stream",
     "text": [
      "Missing Values After Cleaning:\n",
      " tweet_text                                            0\n",
      "emotion_in_tweet_is_directed_at                       0\n",
      "is_there_an_emotion_directed_at_a_brand_or_product    0\n",
      "dtype: int64\n",
      "\n",
      "Target Distribution:\n",
      " Apple     5540\n",
      "Google    2796\n",
      "Name: emotion_in_tweet_is_directed_at, dtype: int64\n"
     ]
    }
   ],
   "source": [
    "\n",
    "#Define the keyword-to-target mapping\n",
    "keywords_to_targets = {\n",
    "    \"iPhone\": \"Apple\",\n",
    "    \"iPad\": \"Apple\",\n",
    "    \"Mac\": \"Apple\",\n",
    "    \"Apple\": \"Apple\",\n",
    "    \"Google\": \"Google\",\n",
    "    \"Android\": \"Google\",\n",
    "    \"Pixel\": \"Google\",\n",
    "    \"Chrome\": \"Google\",\n",
    "    \"Nexus\": \"Google\",\n",
    "    \"Other Google product or service\" : \"Google\",\n",
    "    \"Other Apple product or service\" : \"Apple\",\n",
    "    \"Android App\" : \"Google\",\n",
    "    \"iPad or iPhone App\" : \"Apple\",\n",
    "    \" Apple\": \"Apple\"\n",
    "}\n",
    "\n",
    "#Function to impute missing targets based on keywords\n",
    "df[\"emotion_in_tweet_is_directed_at\"] = df[\"emotion_in_tweet_is_directed_at\"].replace(keywords_to_targets)\n",
    "def impute_target_directly(text, existing_target):\n",
    "    if pd.isna(existing_target):  # Only impute if the target is missing\n",
    "        for keyword, target in keywords_to_targets.items():\n",
    "            if keyword.lower() in str(text).lower():\n",
    "                return target\n",
    "    return existing_target  # If not missing, keep the original value\n",
    "\n",
    "#Apply the imputation directly to the target column\n",
    "\n",
    "df[\"emotion_in_tweet_is_directed_at\"] = df.apply(\n",
    "    lambda row: impute_target_directly(row[\"tweet_text\"], row[\"emotion_in_tweet_is_directed_at\"]), axis=1\n",
    ")\n",
    "\n",
    "\n",
    "#Remove rows where the target is still missing (optional)\n",
    "df = df.dropna(subset=[\"emotion_in_tweet_is_directed_at\"]).reset_index(drop=True)\n",
    "\n",
    "#Check for remaining missing values\n",
    "print(\"Missing Values After Cleaning:\\n\", df.isnull().sum())\n",
    "print()\n",
    "\n",
    "#Check the distribution of target column\n",
    "print(\"Target Distribution:\\n\", df[\"emotion_in_tweet_is_directed_at\"].value_counts())\n"
   ]
  },
  {
   "cell_type": "markdown",
   "id": "bd3e360e",
   "metadata": {},
   "source": [
    "### 2. Renaming the columns"
   ]
  },
  {
   "cell_type": "code",
   "execution_count": 54,
   "id": "c58e9d7e",
   "metadata": {},
   "outputs": [
    {
     "data": {
      "text/html": [
       "<div>\n",
       "<style scoped>\n",
       "    .dataframe tbody tr th:only-of-type {\n",
       "        vertical-align: middle;\n",
       "    }\n",
       "\n",
       "    .dataframe tbody tr th {\n",
       "        vertical-align: top;\n",
       "    }\n",
       "\n",
       "    .dataframe thead th {\n",
       "        text-align: right;\n",
       "    }\n",
       "</style>\n",
       "<table border=\"1\" class=\"dataframe\">\n",
       "  <thead>\n",
       "    <tr style=\"text-align: right;\">\n",
       "      <th></th>\n",
       "      <th>tweet_text</th>\n",
       "      <th>brand</th>\n",
       "      <th>tweet_sentiment</th>\n",
       "    </tr>\n",
       "  </thead>\n",
       "  <tbody>\n",
       "    <tr>\n",
       "      <th>0</th>\n",
       "      <td>.@wesley83 I have a 3G iPhone. After 3 hrs twe...</td>\n",
       "      <td>Apple</td>\n",
       "      <td>Negative emotion</td>\n",
       "    </tr>\n",
       "    <tr>\n",
       "      <th>1</th>\n",
       "      <td>@jessedee Know about @fludapp ? Awesome iPad/i...</td>\n",
       "      <td>Apple</td>\n",
       "      <td>Positive emotion</td>\n",
       "    </tr>\n",
       "    <tr>\n",
       "      <th>2</th>\n",
       "      <td>@swonderlin Can not wait for #iPad 2 also. The...</td>\n",
       "      <td>Apple</td>\n",
       "      <td>Positive emotion</td>\n",
       "    </tr>\n",
       "    <tr>\n",
       "      <th>3</th>\n",
       "      <td>@sxsw I hope this year's festival isn't as cra...</td>\n",
       "      <td>Apple</td>\n",
       "      <td>Negative emotion</td>\n",
       "    </tr>\n",
       "    <tr>\n",
       "      <th>4</th>\n",
       "      <td>@sxtxstate great stuff on Fri #SXSW: Marissa M...</td>\n",
       "      <td>Google</td>\n",
       "      <td>Positive emotion</td>\n",
       "    </tr>\n",
       "    <tr>\n",
       "      <th>...</th>\n",
       "      <td>...</td>\n",
       "      <td>...</td>\n",
       "      <td>...</td>\n",
       "    </tr>\n",
       "    <tr>\n",
       "      <th>8331</th>\n",
       "      <td>Ipad everywhere. #SXSW {link}</td>\n",
       "      <td>Apple</td>\n",
       "      <td>Positive emotion</td>\n",
       "    </tr>\n",
       "    <tr>\n",
       "      <th>8332</th>\n",
       "      <td>Wave, buzz... RT @mention We interrupt your re...</td>\n",
       "      <td>Google</td>\n",
       "      <td>No emotion toward brand or product</td>\n",
       "    </tr>\n",
       "    <tr>\n",
       "      <th>8333</th>\n",
       "      <td>Google's Zeiger, a physician never reported po...</td>\n",
       "      <td>Google</td>\n",
       "      <td>No emotion toward brand or product</td>\n",
       "    </tr>\n",
       "    <tr>\n",
       "      <th>8334</th>\n",
       "      <td>Some Verizon iPhone customers complained their...</td>\n",
       "      <td>Apple</td>\n",
       "      <td>No emotion toward brand or product</td>\n",
       "    </tr>\n",
       "    <tr>\n",
       "      <th>8335</th>\n",
       "      <td>Ï¡Ïàü_ÊÎÒ£Áââ_£â_ÛâRT @...</td>\n",
       "      <td>Google</td>\n",
       "      <td>No emotion toward brand or product</td>\n",
       "    </tr>\n",
       "  </tbody>\n",
       "</table>\n",
       "<p>8336 rows × 3 columns</p>\n",
       "</div>"
      ],
      "text/plain": [
       "                                             tweet_text   brand  \\\n",
       "0     .@wesley83 I have a 3G iPhone. After 3 hrs twe...   Apple   \n",
       "1     @jessedee Know about @fludapp ? Awesome iPad/i...   Apple   \n",
       "2     @swonderlin Can not wait for #iPad 2 also. The...   Apple   \n",
       "3     @sxsw I hope this year's festival isn't as cra...   Apple   \n",
       "4     @sxtxstate great stuff on Fri #SXSW: Marissa M...  Google   \n",
       "...                                                 ...     ...   \n",
       "8331                      Ipad everywhere. #SXSW {link}   Apple   \n",
       "8332  Wave, buzz... RT @mention We interrupt your re...  Google   \n",
       "8333  Google's Zeiger, a physician never reported po...  Google   \n",
       "8334  Some Verizon iPhone customers complained their...   Apple   \n",
       "8335  Ï¡Ïàü_ÊÎÒ£Áââ_£â_ÛâRT @...  Google   \n",
       "\n",
       "                         tweet_sentiment  \n",
       "0                       Negative emotion  \n",
       "1                       Positive emotion  \n",
       "2                       Positive emotion  \n",
       "3                       Negative emotion  \n",
       "4                       Positive emotion  \n",
       "...                                  ...  \n",
       "8331                    Positive emotion  \n",
       "8332  No emotion toward brand or product  \n",
       "8333  No emotion toward brand or product  \n",
       "8334  No emotion toward brand or product  \n",
       "8335  No emotion toward brand or product  \n",
       "\n",
       "[8336 rows x 3 columns]"
      ]
     },
     "execution_count": 54,
     "metadata": {},
     "output_type": "execute_result"
    }
   ],
   "source": [
    "#renaming the column names \n",
    "df = df.rename(columns = {'is_there_an_emotion_directed_at_a_brand_or_product': 'tweet_sentiment'})\n",
    "df = df.rename(columns = {'emotion_in_tweet_is_directed_at': 'brand'})\n",
    "df"
   ]
  },
  {
   "cell_type": "markdown",
   "id": "6feeefba",
   "metadata": {},
   "source": [
    "### 3. Inspecting columns contents\n",
    "Here we are checking the contents of the columns in the DataFrame to gain insights into the data structure and identify any potential issues with the data,such as inconsistent formats."
   ]
  },
  {
   "cell_type": "code",
   "execution_count": 55,
   "id": "37a66294",
   "metadata": {
    "scrolled": true
   },
   "outputs": [
    {
     "data": {
      "text/plain": [
       "Apple     5540\n",
       "Google    2796\n",
       "Name: brand, dtype: int64"
      ]
     },
     "execution_count": 55,
     "metadata": {},
     "output_type": "execute_result"
    }
   ],
   "source": [
    "df['brand'].value_counts()"
   ]
  },
  {
   "cell_type": "code",
   "execution_count": 56,
   "id": "721c46f4",
   "metadata": {},
   "outputs": [
    {
     "data": {
      "text/plain": [
       "No emotion toward brand or product    4652\n",
       "Positive emotion                      2965\n",
       "Negative emotion                       569\n",
       "I can't tell                           150\n",
       "Name: tweet_sentiment, dtype: int64"
      ]
     },
     "execution_count": 56,
     "metadata": {},
     "output_type": "execute_result"
    }
   ],
   "source": [
    "#checking for sentiment count \n",
    "df['tweet_sentiment'].value_counts()"
   ]
  },
  {
   "cell_type": "code",
   "execution_count": 57,
   "id": "688eadc1",
   "metadata": {},
   "outputs": [
    {
     "data": {
      "text/plain": [
       "Neutral emotion     4652\n",
       "Positive emotion    2965\n",
       "Negative emotion     569\n",
       "I can't tell         150\n",
       "Name: tweet_sentiment, dtype: int64"
      ]
     },
     "execution_count": 57,
     "metadata": {},
     "output_type": "execute_result"
    }
   ],
   "source": [
    "#renaming unknown sentiment to neutral\n",
    "df['tweet_sentiment'] = df['tweet_sentiment'].replace({'No emotion toward brand or product': 'Neutral emotion'})\n",
    "df['tweet_sentiment'].value_counts()"
   ]
  },
  {
   "cell_type": "code",
   "execution_count": 58,
   "id": "d39d4fda",
   "metadata": {},
   "outputs": [],
   "source": [
    "#dropped the the I can't tell because it does not meet business understanding\n",
    "df = df[df['tweet_sentiment'] !=  \"I can't tell\"]"
   ]
  },
  {
   "cell_type": "markdown",
   "id": "821050ec",
   "metadata": {},
   "source": [
    "## Explanatory Data Analysis"
   ]
  },
  {
   "cell_type": "markdown",
   "id": "a79513c8",
   "metadata": {},
   "source": [
    "### 1. Distribution of sentiments"
   ]
  },
  {
   "cell_type": "code",
   "execution_count": 59,
   "id": "231419a3",
   "metadata": {},
   "outputs": [
    {
     "data": {
      "text/plain": [
       "Neutral emotion     4652\n",
       "Positive emotion    2965\n",
       "Negative emotion     569\n",
       "Name: tweet_sentiment, dtype: int64"
      ]
     },
     "execution_count": 59,
     "metadata": {},
     "output_type": "execute_result"
    }
   ],
   "source": [
    "counts = df['tweet_sentiment'].value_counts()\n",
    "counts "
   ]
  },
  {
   "cell_type": "code",
   "execution_count": 60,
   "id": "4f5cff0d",
   "metadata": {},
   "outputs": [
    {
     "data": {
      "image/png": "[encoded data removed]",
      "text/plain": [
       "<Figure size 432x288 with 1 Axes>"
      ]
     },
     "metadata": {
      "needs_background": "light"
     },
     "output_type": "display_data"
    }
   ],
   "source": [
    "#visualizing the target variable\n",
    "plt.bar(counts.index, counts.values, color='skyblue')\n",
    "plt.title('Countplot of Sentiments')\n",
    "plt.xlabel('Sentiment')\n",
    "plt.ylabel('Count')\n",
    "plt.xticks(rotation=45)\n",
    "plt.show()"
   ]
  },
  {
   "cell_type": "markdown",
   "id": "a6e157e1",
   "metadata": {},
   "source": [
    "### 2. Distribution of Brands"
   ]
  },
  {
   "cell_type": "code",
   "execution_count": 61,
   "id": "576ab16c",
   "metadata": {},
   "outputs": [],
   "source": [
    "counts_1 = df['brand'].value_counts()"
   ]
  },
  {
   "cell_type": "code",
   "execution_count": 62,
   "id": "4f2711fc",
   "metadata": {},
   "outputs": [
    {
     "data": {
      "image/png": "[encoded data removed]",
      "text/plain": [
       "<Figure size 432x288 with 1 Axes>"
      ]
     },
     "metadata": {
      "needs_background": "light"
     },
     "output_type": "display_data"
    }
   ],
   "source": [
    "#visualizing the brand column\n",
    "plt.bar(counts_1.index, counts_1.values, color= ['blue', 'green'])\n",
    "plt.title('Countplot of brands')\n",
    "plt.xlabel('brand')\n",
    "plt.ylabel('Count')\n",
    "plt.xticks(rotation=45)\n",
    "plt.show()"
   ]
  },
  {
   "cell_type": "markdown",
   "id": "10288546",
   "metadata": {},
   "source": [
    "### 3. Distribution of brands according to sentiments"
   ]
  },
  {
   "cell_type": "code",
   "execution_count": 63,
   "id": "e3bc5579",
   "metadata": {},
   "outputs": [
    {
     "data": {
      "text/html": [
       "<div>\n",
       "<style scoped>\n",
       "    .dataframe tbody tr th:only-of-type {\n",
       "        vertical-align: middle;\n",
       "    }\n",
       "\n",
       "    .dataframe tbody tr th {\n",
       "        vertical-align: top;\n",
       "    }\n",
       "\n",
       "    .dataframe thead th {\n",
       "        text-align: right;\n",
       "    }\n",
       "</style>\n",
       "<table border=\"1\" class=\"dataframe\">\n",
       "  <thead>\n",
       "    <tr style=\"text-align: right;\">\n",
       "      <th>tweet_sentiment</th>\n",
       "      <th>Negative emotion</th>\n",
       "      <th>Neutral emotion</th>\n",
       "      <th>Positive emotion</th>\n",
       "    </tr>\n",
       "    <tr>\n",
       "      <th>brand</th>\n",
       "      <th></th>\n",
       "      <th></th>\n",
       "      <th></th>\n",
       "    </tr>\n",
       "  </thead>\n",
       "  <tbody>\n",
       "    <tr>\n",
       "      <th>Apple</th>\n",
       "      <td>419</td>\n",
       "      <td>2886</td>\n",
       "      <td>2135</td>\n",
       "    </tr>\n",
       "    <tr>\n",
       "      <th>Google</th>\n",
       "      <td>150</td>\n",
       "      <td>1766</td>\n",
       "      <td>830</td>\n",
       "    </tr>\n",
       "  </tbody>\n",
       "</table>\n",
       "</div>"
      ],
      "text/plain": [
       "tweet_sentiment  Negative emotion  Neutral emotion  Positive emotion\n",
       "brand                                                               \n",
       "Apple                         419             2886              2135\n",
       "Google                        150             1766               830"
      ]
     },
     "execution_count": 63,
     "metadata": {},
     "output_type": "execute_result"
    }
   ],
   "source": [
    "sentiment_counts = df.groupby(['brand', 'tweet_sentiment']).size().unstack(fill_value=0)\n",
    "sentiment_counts "
   ]
  },
  {
   "cell_type": "code",
   "execution_count": 64,
   "id": "176ea7b2",
   "metadata": {},
   "outputs": [
    {
     "data": {
      "image/png": "[encoded data removed]",
      "text/plain": [
       "<Figure size 720x432 with 1 Axes>"
      ]
     },
     "metadata": {
      "needs_background": "light"
     },
     "output_type": "display_data"
    }
   ],
   "source": [
    "\n",
    "sentiment_counts = sentiment_counts.reset_index()\n",
    "sentiment_counts_melted = sentiment_counts.melt(id_vars='brand', var_name='sentiment', value_name='count')\n",
    "\n",
    "plt.figure(figsize=(10, 6))\n",
    "sns.barplot(x='brand', y='count', hue='sentiment', data=sentiment_counts_melted, palette='Set2')\n",
    "plt.title('Sentiment Distribution by Brand')\n",
    "plt.xlabel('Brand')\n",
    "plt.ylabel('Count of Tweets')\n",
    "plt.xticks(rotation=45, ha='right')\n",
    "plt.tight_layout()"
   ]
  },
  {
   "cell_type": "markdown",
   "id": "8982787f",
   "metadata": {},
   "source": [
    "## Text Preprocessing"
   ]
  },
  {
   "cell_type": "markdown",
   "id": "0a59d41a",
   "metadata": {},
   "source": [
    "Prepare the tweet_text column by cleaning and standardizing it to enhance model performance."
   ]
  },
  {
   "cell_type": "markdown",
   "id": "9b1d7da4",
   "metadata": {},
   "source": [
    "### 1.Text Cleaning steps:"
   ]
  },
  {
   "cell_type": "markdown",
   "id": "420808ca",
   "metadata": {},
   "source": [
    "\n",
    "\n",
    "    - Converts text to lowercase\n",
    "    - Removes URLs\n",
    "    - Removes user mentions \n",
    "    - Removes hashtags keeping the text\n",
    "    - Removes the RT (retweet) symbol\n",
    "    - Removes numbers\n",
    "    - Removes punctuation and special characters\n",
    "    - Removes extra whitespace\n"
   ]
  },
  {
   "cell_type": "code",
   "execution_count": 69,
   "id": "a3cf0799",
   "metadata": {},
   "outputs": [
    {
     "name": "stderr",
     "output_type": "stream",
     "text": [
      "[nltk_data] Downloading package punkt to /home/edu/nltk_data...\n",
      "[nltk_data]   Package punkt is already up-to-date!\n",
      "[nltk_data] Downloading package stopwords to /home/edu/nltk_data...\n",
      "[nltk_data]   Package stopwords is already up-to-date!\n",
      "[nltk_data] Downloading package wordnet to /home/edu/nltk_data...\n",
      "[nltk_data]   Package wordnet is already up-to-date!\n",
      "[nltk_data] Downloading package averaged_perceptron_tagger to\n",
      "[nltk_data]     /home/edu/nltk_data...\n",
      "[nltk_data]   Package averaged_perceptron_tagger is already up-to-\n",
      "[nltk_data]       date!\n"
     ]
    }
   ],
   "source": [
    "# Download required NLTK data\n",
    "nltk.download('punkt')\n",
    "nltk.download('stopwords')\n",
    "nltk.download('wordnet')\n",
    "nltk.download('averaged_perceptron_tagger')\n",
    "\n",
    "def preprocess_text(text):\n",
    "\n",
    "    # Convert text to lowercase\n",
    "    text = text.lower()\n",
    "    \n",
    "    # Remove URLs\n",
    "    text = re.sub(r'http\\S+|www\\S+|https\\S+', '', text, flags=re.MULTILINE)\n",
    "    \n",
    "    # Remove user mentions (@)\n",
    "    text = re.sub(r'@\\w+', '', text)\n",
    "    \n",
    "    # Remove hashtags\n",
    "    text = re.sub(r'#(\\w+)', r'\\1', text)\n",
    "    \n",
    "    # Remove RT (retweet) symbol\n",
    "    text = re.sub(r'\\brt\\b', '', text)\n",
    "    \n",
    "    # Remove numbers\n",
    "    text = re.sub(r'\\d+', '', text)\n",
    "\n",
    "    # Remove special characters and punctuation\n",
    "    text = re.sub(r'[^\\w\\s]', '', text)\n",
    "    \n",
    "    # Remove extra whitespace\n",
    "    text = re.sub(r'\\s+', ' ', text).strip()\n",
    "    \n",
    "    return text"
   ]
  },
  {
   "cell_type": "markdown",
   "metadata": {},
   "source": [
    "### 2.Text Normalization:"
   ]
  },
  {
   "cell_type": "markdown",
   "id": "f25e597d",
   "metadata": {},
   "source": [
    "    - Tokenization (splits text into individual words)\n",
    "    - Stopword removal (removes common words like \"the\", \"is\", \"at\")\n",
    "    - Lemmatization (reduces words to their base form)"
   ]
  },
  {
   "cell_type": "code",
   "execution_count": 70,
   "id": "6192c13d",
   "metadata": {},
   "outputs": [],
   "source": [
    "def tokenize_and_lemmatize(text):\n",
    "   \n",
    "    # Tokenization\n",
    "    tokens = word_tokenize(text)\n",
    "    \n",
    "    # Remove stopwords\n",
    "    stop_words = set(stopwords.words('english'))\n",
    "    tokens = [token for token in tokens if token not in stop_words]\n",
    "    \n",
    "    # Lemmatization\n",
    "    lemmatizer = WordNetLemmatizer()\n",
    "    tokens = [lemmatizer.lemmatize(token) for token in tokens]\n",
    "    \n",
    "    return ' '.join(tokens)"
   ]
  },
  {
   "cell_type": "markdown",
   "id": "f43a5948",
   "metadata": {},
   "source": [
    "### 3. Apply Preprocessing to Dataset"
   ]
  },
  {
   "cell_type": "code",
   "execution_count": 72,
   "id": "3a065abd",
   "metadata": {},
   "outputs": [],
   "source": [
    "df_processed = df.copy()\n",
    "\n",
    "# Apply preprocessing to tweet text\n",
    "df_processed['processed_text'] = df_processed['tweet_text'].apply(preprocess_text)\n",
    "df_processed['processed_text'] = df_processed['processed_text'].apply(tokenize_and_lemmatize)"
   ]
  },
  {
   "cell_type": "code",
   "execution_count": 73,
   "id": "dfd61ca0",
   "metadata": {},
   "outputs": [
    {
     "name": "stdout",
     "output_type": "stream",
     "text": [
      "\n",
      "Sample of original vs preprocessed texts:\n",
      "                                            Original  \\\n",
      "0  .@wesley83 I have a 3G iPhone. After 3 hrs twe...   \n",
      "1  @jessedee Know about @fludapp ? Awesome iPad/i...   \n",
      "2  @swonderlin Can not wait for #iPad 2 also. The...   \n",
      "3  @sxsw I hope this year's festival isn't as cra...   \n",
      "4  @sxtxstate great stuff on Fri #SXSW: Marissa M...   \n",
      "\n",
      "                                        Preprocessed  \n",
      "0  g iphone hr tweeting rise_austin dead need upg...  \n",
      "1  know awesome ipadiphone app youll likely appre...  \n",
      "2                           wait ipad also sale sxsw  \n",
      "3  hope year festival isnt crashy year iphone app...  \n",
      "4  great stuff fri sxsw marissa mayer google tim ...  \n"
     ]
    }
   ],
   "source": [
    "# Display preprocessed texts\n",
    "print(\"\\nSample of original vs preprocessed texts:\")\n",
    "sample_comparison = pd.DataFrame({\n",
    "    'Original': df_processed['tweet_text'].head(),\n",
    "    'Preprocessed': df_processed['processed_text'].head()\n",
    "})\n",
    "print(sample_comparison)"
   ]
  }
 ],
 "metadata": {
  "kernelspec": {
   "display_name": "Python 3",
   "language": "python",
   "name": "python3"
  },
  "language_info": {
   "codemirror_mode": {
    "name": "ipython",
    "version": 3
   },
   "file_extension": ".py",
   "mimetype": "text/x-python",
   "name": "python",
   "nbconvert_exporter": "python",
   "pygments_lexer": "ipython3",
   "version": "3.8.5"
  }
 },
 "nbformat": 4,
 "nbformat_minor": 5
}
