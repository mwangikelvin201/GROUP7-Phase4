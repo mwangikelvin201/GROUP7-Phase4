{
 "cells": [
  {
   "cell_type": "markdown",
   "id": "bd4a045e-e3d2-480a-9fb6-7bc81626c7c6",
   "metadata": {},
   "source": [
    "# Natural Language Processing (NLP) \n",
    "# Project : Sentiment Analysis on Tweets about Apple and Google Products\n"
   ]
  },
  {
   "cell_type": "code",
   "execution_count": null,
   "id": "3b766d2e-c2db-4bf2-80c2-cc1064490a2a",
   "metadata": {},
   "outputs": [],
   "source": [
    "import pandas as pd"
   ]
  }
 ],
 "metadata": {
  "kernelspec": {
   "display_name": "Python 3 (ipykernel)",
   "language": "python",
   "name": "python3"
  },
  "language_info": {
   "codemirror_mode": {
    "name": "ipython",
    "version": 3
   },
   "file_extension": ".py",
   "mimetype": "text/x-python",
   "name": "python",
   "nbconvert_exporter": "python",
   "pygments_lexer": "ipython3",
   "version": "3.11.9"
  }
 },
 "nbformat": 4,
 "nbformat_minor": 5
}
